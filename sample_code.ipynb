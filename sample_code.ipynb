{
 "cells": [
  {
   "cell_type": "markdown",
   "metadata": {},
   "source": [
    "# Jupyter Notebook on Binder (beta)\n",
    "\n",
    "## Python3 kernel is running\n",
    "\n",
    "## Available Libraries \n",
    "__You can use these libraries (written in requirements3.txt)__\n",
    "- Numpy\n",
    "- Pandas\n",
    "- Scipy\n",
    "- Matplotlib "
   ]
  },
  {
   "cell_type": "code",
   "execution_count": null,
   "metadata": {},
   "outputs": [],
   "source": [
    "%matplotlib inline\n",
    "import numpy as np\n",
    "import matplotlib.pyplot as plt"
   ]
  },
  {
   "cell_type": "code",
   "execution_count": null,
   "metadata": {},
   "outputs": [],
   "source": [
    "def sigmoid(x):\n",
    "   y = 1 / (1 + np.exp( -x ) )\n",
    "   return y\n",
    "\n",
    "x = np.linspace(-10, 10, 50)   # values of x\n",
    "plt.plot(x,sigmoid(x))         # plot\n",
    "plt.xlim(-10, 10)              # x-axis\n",
    "plt.ylim(0, 1.0)               # y-axis\n",
    "plt.title(\"Sigmoid function\")  # title\n",
    "plt.xlabel(\"x\")                # x-axis label\n",
    "plt.ylabel(\"y\")                # y-axis label\n",
    "plt.grid()                     # add grid-line\n",
    "plt.show()                     # show"
   ]
  },
  {
   "cell_type": "code",
   "execution_count": null,
   "metadata": {
    "collapsed": true
   },
   "outputs": [],
   "source": []
  }
 ],
 "metadata": {
  "kernelspec": {
   "display_name": "Python 3",
   "language": "python",
   "name": "python3"
  },
  "language_info": {
   "codemirror_mode": {
    "name": "ipython",
    "version": 3
   },
   "file_extension": ".py",
   "mimetype": "text/x-python",
   "name": "python",
   "nbconvert_exporter": "python",
   "pygments_lexer": "ipython3",
   "version": "3.5.2"
  }
 },
 "nbformat": 4,
 "nbformat_minor": 1
}
